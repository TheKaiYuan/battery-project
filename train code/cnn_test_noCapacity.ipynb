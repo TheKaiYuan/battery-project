{
 "cells": [
  {
   "cell_type": "markdown",
   "metadata": {},
   "source": [
    "battery json data  convert to matrix and input to CNN for train"
   ]
  },
  {
   "cell_type": "code",
   "execution_count": 1,
   "metadata": {
    "collapsed": true
   },
   "outputs": [],
   "source": [
    "from sklearn import preprocessing \n",
    "from scipy.io import loadmat, whosmat\n",
    "import numpy as np\n",
    "import datetime\n",
    "import json\n",
    "import os\n",
    "# 获取得到 json data of battery \n",
    "def json_load(dictonary):\n",
    "    with open(dictonary) as f:\n",
    "        data = json.load(f)\n",
    "    return data\n",
    "\n",
    "'''\n",
    "cycle为行数，循环读取一行数据，对一行数据里面的voltage,current and temp求均值，并添加capacity features\n",
    "得到battery array\n",
    "'''\n",
    "def batteryData2array(battery_data):\n",
    "    vol_sum = 0\n",
    "    cur_sum = 0\n",
    "    temp_sum=0\n",
    "    battery_array = []\n",
    "    for cycle in battery_data.keys():\n",
    "        # list type \n",
    "        battery_vols = battery_data[cycle][\"voltage_battery\"]\n",
    "        battery_curs = battery_data[cycle][\"current_battery\"]\n",
    "        battery_temps=battery_data[cycle][\"temp_battery\"]\n",
    "        battery_capacity=battery_data[cycle][\"Capacity\"]\n",
    "        for battery_vol in battery_vols:\n",
    "            vol_sum += float(battery_vol)\n",
    "        for battery_cur in battery_curs:\n",
    "            cur_sum += float(battery_cur)\n",
    "        for battery_temp in battery_temps:\n",
    "            temp_sum += float(battery_temp)\n",
    "        #for voltage and current average  & battery_vols,battery_curs,battery_temps's len is equal\n",
    "        num = len(battery_vols)\n",
    "        vol_aver = vol_sum / num\n",
    "        cur_aver = cur_sum / num\n",
    "        temp_aver=temp_sum/num\n",
    "        vol_sum = 0\n",
    "        cur_sum = 0\n",
    "        temp_sum=0\n",
    "#         battery_array.append([vol_aver,cur_aver,temp_aver,battery_capacity[0]])\n",
    "        battery_array.append([vol_aver,cur_aver,temp_aver])\n",
    "    return battery_array\n",
    "\n",
    "# get battery's true soc\n",
    "def  getTrueSOC(battery_discharge_data):\n",
    "    batteryCapcity=2\n",
    "    soc_dict=[]\n",
    "    for cycle in battery_discharge_data.keys():\n",
    "        cycleCapacity=battery_discharge_data[cycle][\"Capacity\"]\n",
    "        soc_true=cycleCapacity[0]/batteryCapcity\n",
    "        soc_dict.append(soc_true)\n",
    "    return soc_dict\n",
    "\n",
    "# get battery's discgarge capacity\n",
    "def  getTrueCapacity(battery_discharge_data):\n",
    "    capacity=[]\n",
    "    for cycle in battery_discharge_data.keys():\n",
    "        cycleCapacity=battery_discharge_data[cycle][\"Capacity\"]\n",
    "        capacity.append(cycleCapacity[0])\n",
    "    return capacity\n",
    "\n",
    "'''\n",
    "获取得到 battery 's img matrix 图像矩阵  4维特征向量  vol_aver,cur_aver,temp_aver,battery_capacity\n",
    "返回battery discharge matrix and true soc array\n",
    "'''\n",
    "def batterydata2matrix(discharge):\n",
    "    #get the discharge and charge json data\n",
    "    discharge_data =json_load(discharge)\n",
    "    \n",
    "    #get the true soc data\n",
    "    true_soc=getTrueSOC(discharge_data)\n",
    "#   true_capacity=getTrueCapacity(discharge_data)\n",
    "    #get the battery discharge array data  convert to matrix\n",
    "    discharge_array = batteryData2array(discharge_data)\n",
    "    discharge_matrix = np.array(discharge_array)\n",
    "\n",
    "    discharge_matrix=preprocessing.scale(discharge_matrix)\n",
    "    return discharge_matrix,true_soc\n",
    "\n",
    "'''\n",
    "获取得到每一节电池数据的训练数据集\n",
    "得到train & test data\n",
    "'''\n",
    "def getTrainData(discharge_matrix,true_soc):     \n",
    "    #循环切片形成数据集\n",
    "    x=[];y=[]\n",
    "    x_train=[];y_train=[]\n",
    "    flag=0\n",
    "\n",
    "    # 获取得到x,y的数据集\n",
    "    for i in range(len(discharge_matrix.tolist())):\n",
    "        #首先截取长度为8的矩阵，叠加循环得到x\n",
    "        bataery_data_training=discharge_matrix[flag:flag+8,:]\n",
    "    #     print(bataery_data_training.shape)\n",
    "        if(len(bataery_data_training)<8):\n",
    "            break\n",
    "        else:\n",
    "            #进行转置，形成4*T的时间维度\n",
    "            x.append(bataery_data_training.T)\n",
    "        flag+=1\n",
    "    #0-》t时刻d x 预测得到t时刻的soc。为了对soc 进行预测，y矩阵为【7：】\n",
    "    y=true_soc[7:]\n",
    "#     y=true_capacity[8:]\n",
    "\n",
    "    VALIDATION_SPLIT=0.9\n",
    "    x_validation_samples = int( VALIDATION_SPLIT* len(x))\n",
    "    y_validation_samples = int( VALIDATION_SPLIT*len(y))\n",
    "    \n",
    "    \n",
    "    # 获取得到训练集，验证集，比例9:1\n",
    "    x_train=np.array(x[:x_validation_samples])\n",
    "    x_test=np.array(x[x_validation_samples:])\n",
    "    y_train=np.array(y[:y_validation_samples])\n",
    "    y_test=np.array(y[y_validation_samples:])\n",
    "    print(\"x_train's shape is:\", x_train.shape,\"，y_train's shape is:\",y_train.shape)\n",
    "    print(\"x_test's shape is:\",x_test.shape,\"，y_test's shape is:\",y_test.shape)\n",
    "    return x_train,x_test,y_train,y_test"
   ]
  },
  {
   "cell_type": "code",
   "execution_count": 2,
   "metadata": {},
   "outputs": [
    {
     "name": "stdout",
     "output_type": "stream",
     "text": [
      "x_train's shape is: (144, 3, 8) ，y_train's shape is: (144,)\n",
      "x_test's shape is: (17, 3, 8) ，y_test's shape is: (17,)\n",
      "x_train's shape is: (144, 3, 8) ，y_train's shape is: (144,)\n",
      "x_test's shape is: (17, 3, 8) ，y_test's shape is: (17,)\n",
      "x_train's shape is: (144, 3, 8) ，y_train's shape is: (144,)\n",
      "x_test's shape is: (17, 3, 8) ，y_test's shape is: (17,)\n",
      "(432, 3, 8) (51, 3, 8) (432,) (51,)\n"
     ]
    }
   ],
   "source": [
    "# 定义全局变量，将所有电池数据集集合起来，形成训练集，测试集\n",
    "# x_train_all,x_test_all,y_train_all,y_test_all=[],[],[],[]\n",
    "for i in range(5,8):\n",
    "    #/home/aqts/yangHong/battery experiment/jsonData\n",
    "    discharge=r'/home/aqts/yangHong/battery experiment/jsonData/B000'+str(i)+'_discharge.json'\n",
    "    discharge_matrix,true_soc=batterydata2matrix(discharge)\n",
    "    train_x,test_x,train_y,test_y=getTrainData(discharge_matrix,true_soc)\n",
    "    # start 开始时先赋值给x_train_all，x_test_all，y_train_all，y_test_all\n",
    "    if i==5:\n",
    "        x_train_all=train_x\n",
    "        x_test_all=test_x\n",
    "        y_train_all=train_y\n",
    "        y_test_all=test_y\n",
    "    else:\n",
    "        x_train_all=np.concatenate((x_train_all,train_x),axis=0)\n",
    "        x_test_all=np.concatenate((x_test_all,test_x),axis=0)\n",
    "        y_train_all=np.concatenate((y_train_all,train_y),axis=0)\n",
    "        y_test_all=np.concatenate((y_test_all,test_y),axis=0)\n",
    "print(np.array(x_train_all).shape,np.array(x_test_all).shape,np.array(y_train_all).shape,np.array(y_test_all).shape)\n"
   ]
  },
  {
   "cell_type": "code",
   "execution_count": 3,
   "metadata": {},
   "outputs": [
    {
     "name": "stderr",
     "output_type": "stream",
     "text": [
      "/home/aqts/anaconda3/lib/python3.6/site-packages/h5py/__init__.py:34: FutureWarning: Conversion of the second argument of issubdtype from `float` to `np.floating` is deprecated. In future, it will be treated as `np.float64 == np.dtype(float).type`.\n",
      "  from ._conv import register_converters as _register_converters\n",
      "Using TensorFlow backend.\n"
     ]
    }
   ],
   "source": [
    "#写一个LossHistory类，保存loss和mae\n",
    "from __future__ import print_function\n",
    "import keras\n",
    "from keras.datasets import mnist\n",
    "from keras.models import Sequential\n",
    "from keras.layers import Dense, Dropout, Flatten, Conv2D, MaxPooling2D,Convolution2D\n",
    "from keras import backend as k\n",
    "import matplotlib.pyplot as plt\n",
    "import numpy as np\n",
    "from keras import backend as K\n",
    "class LossHistory(keras.callbacks.Callback):\n",
    "    def on_train_begin(self, logs={}):\n",
    "        self.losses = {'batch':[], 'epoch':[]}\n",
    "        self.accuracy = {'batch':[], 'epoch':[]}\n",
    "        self.val_loss = {'batch':[], 'epoch':[]}\n",
    "        self.val_acc = {'batch':[], 'epoch':[]}\n",
    "\n",
    "    def on_batch_end(self, batch, logs={}):\n",
    "        self.losses['batch'].append(logs.get('loss'))\n",
    "        self.accuracy['batch'].append(logs.get('mean_absolute_error'))\n",
    "        self.val_loss['batch'].append(logs.get('val_loss'))\n",
    "        self.val_acc['batch'].append(logs.get('val_mean_absolute_error'))\n",
    "\n",
    "    def on_epoch_end(self, batch, logs={}):\n",
    "        self.losses['epoch'].append(logs.get('loss'))\n",
    "        self.accuracy['epoch'].append(logs.get('mean_absolute_error'))\n",
    "        self.val_loss['epoch'].append(logs.get('val_loss'))\n",
    "        self.val_acc['epoch'].append(logs.get('val_mean_absolute_error'))\n",
    "\n",
    "    def loss_plot(self, loss_type):\n",
    "        iters = range(len(self.losses[loss_type]))\n",
    "        plt.figure()\n",
    "        # mae\n",
    "        plt.plot(iters, self.accuracy[loss_type], 'r', label='train mae')\n",
    "        # loss\n",
    "        plt.plot(iters, self.losses[loss_type], 'g', label='train loss')\n",
    "        if loss_type == 'epoch':\n",
    "            # val_mean_absolute_error\n",
    "            plt.plot(iters, self.val_acc[loss_type], 'b', label='val mean absolute error')\n",
    "            # val_loss\n",
    "            plt.plot(iters, self.val_loss[loss_type], 'k', label='val loss')\n",
    "        plt.grid(True)\n",
    "        plt.xlabel(loss_type)\n",
    "        plt.ylabel('mae-loss')\n",
    "        plt.legend(loc=\"upper right\")\n",
    "        plt.show()"
   ]
  },
  {
   "cell_type": "markdown",
   "metadata": {},
   "source": [
    "基于序贯(Sequential)编程方式的模型"
   ]
  },
  {
   "cell_type": "code",
   "execution_count": null,
   "metadata": {
    "scrolled": true
   },
   "outputs": [],
   "source": [
    "#使用cnn训练的模型\n",
    "from __future__ import print_function\n",
    "import keras\n",
    "from keras.datasets import mnist\n",
    "from keras.models import Sequential\n",
    "from keras.layers import Dense, Dropout, Flatten, Conv2D, MaxPooling2D,Convolution2D,GRU,LSTM\n",
    "from keras import backend as K\n",
    "import matplotlib.pyplot as plt\n",
    "import numpy as np\n",
    "from keras import regularizers\n",
    "from keras.optimizers import SGD, Adam\n",
    "from keras.layers.normalization import BatchNormalization\n",
    "from keras.layers.noise import GaussianNoise\n",
    "num=1\n",
    "img_rows, img_cols =x_train_all.shape[1],x_train_all.shape[2]\n",
    "if K.image_dim_ordering() == 'th':\n",
    "    x_train_all = x_train_all.reshape(x_train_all.shape[0], 1, img_rows, img_cols)\n",
    "    x_test_all = x_test_all.reshape(x_test_all.shape[0], 1, img_rows, img_cols)\n",
    "    input_shape = (1, img_rows, img_cols)\n",
    "else:\n",
    "    x_train_all = x_train_all.reshape(x_train_all.shape[0], img_rows, img_cols, 1)\n",
    "    x_test_all= x_test_all.reshape(x_test_all.shape[0], img_rows, img_cols, 1)\n",
    "    input_shape = (img_rows, img_cols, 1)\n",
    "    \n",
    "lstm_layer=(None, input_shape[0], input_shape[1], input_shape[2])\n",
    "# print(x_train.shape,x_test.shape)\n",
    "# print(y_train.shape)\n",
    "# keras序贯模型搭建CNN\n",
    "# model building\n",
    "model = Sequential()\n",
    "# same 模式 图片的尺寸大小保持不变(相对于输入图片的大小)\n",
    "model.add(Conv2D(128, kernel_size=(1,2),\n",
    "                 activation='relu',\n",
    "                 input_shape=input_shape,padding=\"same\"))\n",
    "model.add(Conv2D(64, (2,2), activation='relu',padding=\"same\"))\n",
    "model.add(MaxPooling2D(pool_size=(2, 2)))\n",
    "# model.add(Dropout(0.20))\n",
    "# model.add(BatchNormalization())\n",
    "\n",
    "model.add(Conv2D(64, (2,1), activation='relu',padding=\"same\"))\n",
    "\n",
    "model.add(Conv2D(32,(2,2), activation='relu',padding=\"same\"))\n",
    "# model.add(Dropout(0.20))\n",
    "# model.add(BatchNormalization())\n",
    "\n",
    "model.add(Flatten())\n",
    "# GaussianNoise\n",
    "# model.add(GaussianNoise(stddev=0.1))\n",
    "\n",
    "model.add(Dense(16, activation='relu',kernel_regularizer=regularizers.l2(0.001)))\n",
    "# model.add(Dropout(0.15))\n",
    "# model.add(BatchNormalization())\n",
    "# model.add(GaussianNoise(stddev=0.05))\n",
    "model.add(Dense(32, activation='relu'))\n",
    "# model.add(Dropout(0.25))\n",
    "\n",
    "model.add(Dense(num))\n",
    "model.summary()\n",
    "\n",
    "sgd = SGD(lr=0.1, decay=1e-6, momentum=0.9, nesterov=True)\n",
    "model.compile(loss='mse', optimizer=\"sgd\", metrics=[\"mae\"])\n",
    "\n",
    "\n",
    "batch_size =16\n",
    "num_epoch = 128\n",
    "\n",
    "#model training\n",
    "history = LossHistory()\n",
    "model.fit(x_train_all, y_train_all,\n",
    "          batch_size=batch_size,\n",
    "          epochs=num_epoch,\n",
    "          verbose=1,validation_split=0.3,callbacks=[history])\n",
    "\n",
    "mse_score,mae_score= model.evaluate(x_test_all, y_test_all, verbose=0)\n",
    "print('Test MSE Score:%.3f %%'% (mse_score*100)) \n",
    "print('Test MAE Score:%.3f %%'% (mae_score*100))\n",
    "\n",
    "\n",
    "\n",
    "\n"
   ]
  },
  {
   "cell_type": "code",
   "execution_count": null,
   "metadata": {
    "scrolled": true
   },
   "outputs": [],
   "source": [
    "#绘制mae-loss曲线\n",
    "history.loss_plot('epoch')\n",
    "# input_shape[]"
   ]
  },
  {
   "cell_type": "markdown",
   "metadata": {},
   "source": [
    "获取得到需要用于预测的电池数据集B0018号电池"
   ]
  },
  {
   "cell_type": "code",
   "execution_count": 6,
   "metadata": {},
   "outputs": [
    {
     "name": "stdout",
     "output_type": "stream",
     "text": [
      "x_test_008 data shape is (125, 3, 8)\n"
     ]
    }
   ],
   "source": [
    "# 获取预测所需的电池数据集\n",
    "def getBattery008data(discharge_matrix):\n",
    "    x_pred=[]\n",
    "    flag=0\n",
    "\n",
    "    # 获取得到x_pred的数据集\n",
    "    for i in range(len(discharge_matrix.tolist())):\n",
    "        #首先截取0--37这段的长度，叠加+1循环得到x\n",
    "        bataery_data_training=discharge_matrix[flag:flag+8,:]\n",
    "    #     print(bataery_data_training.shape)\n",
    "        if(len(bataery_data_training)<8):\n",
    "            break\n",
    "        else:\n",
    "            #进行转置，形成3*T的时间维度\n",
    "            x_pred.append(bataery_data_training.T)\n",
    "        flag+=1\n",
    "\n",
    "    x_pred=np.array(x_pred)\n",
    "    return x_pred\n",
    "\n",
    "# return prediction  data &  prediction  data true_so\n",
    "discharge_008=r'/home/aqts/yangHong/battery experiment/jsonData/B0008_discharge.json'\n",
    "# 获取得到一节电池的 特征向量 与true soc \n",
    "discharge_matrix_008,true_soc_008 =batterydata2matrix(discharge_008)\n",
    "# 得到预测样本集 t=7\n",
    "x_test_008=getBattery008data(discharge_matrix_008)\n",
    "\n",
    "\n",
    "print(\"x_test_008 data shape is\",x_test_008.shape)\n",
    "# 预测数据集进行转换\n",
    "if K.image_dim_ordering() == 'th':\n",
    "    x_test_008 = x_test_008.reshape(x_test_008.shape[0], 1, img_rows, img_cols)\n",
    "    input_shape = (1, img_rows, img_cols)\n",
    "else:\n",
    "    x_test_008 = x_test_008.reshape(x_test_008.shape[0], img_rows, img_cols,1)\n",
    "    input_shape = (img_rows, img_cols, 1)"
   ]
  },
  {
   "cell_type": "code",
   "execution_count": 297,
   "metadata": {},
   "outputs": [
    {
     "name": "stdout",
     "output_type": "stream",
     "text": [
      "(125, 1)\n"
     ]
    }
   ],
   "source": [
    "pred=model.predict(x_test_008, batch_size=16, verbose=0)\n",
    "print(pred.shape)"
   ]
  },
  {
   "cell_type": "code",
   "execution_count": 298,
   "metadata": {
    "scrolled": true
   },
   "outputs": [
    {
     "name": "stdout",
     "output_type": "stream",
     "text": [
      "x_true_soc range is  range(0, 132) \n",
      " x_test_soc_008  range is: range(7, 132)\n"
     ]
    },
    {
     "data": {
      "image/png": "[encoded data removed]",
      "text/plain": [
       "<matplotlib.figure.Figure at 0x7f243dbaca90>"
      ]
     },
     "metadata": {},
     "output_type": "display_data"
    }
   ],
   "source": [
    "import pandas as pd # 导入pandas库用来处理csv文件\n",
    "import matplotlib.pyplot as plt # 导入matplotlib.pyplot并用plt简称\n",
    "\n",
    "# true soc predict plot\n",
    "x_true_soc=range(len(true_soc_008))\n",
    "# 切割开始的基数一定为7\n",
    "start=7\n",
    "x_test_soc_008=range(start,start+pred.shape[0])\n",
    "print(\"x_true_soc range is \",x_true_soc,\"\\n x_test_soc_008  range is:\",x_test_soc_008)\n",
    "plt.plot(x_true_soc, true_soc_008, linewidth=2.0, color='r',label=\"True SOC\")#线的宽度为2.0，颜色为红色\n",
    "plt.plot(x_test_soc_008, pred, linewidth=2.0, color='g',label=\"Prediction SOC\")#线的宽度为2.0，颜色为绿色\n",
    "\n",
    "\n",
    "# 设置x ,y轴的步长与刻度属性\n",
    "plt.xticks([x for x in range(len(x_true_soc) + 1) if x %10 == 0])  # x标记step设置为10\n",
    "plt.ylim(ymin=0.3,ymax=1.1)\n",
    "# remark for x & y\n",
    "plt.xlabel('Cylce')\n",
    "plt.ylabel('SOC')\n",
    "plt.title('Real Soc and Predicted Soc')\n",
    "\n",
    "plt.legend()\n",
    "plt.show()#显示图像\n"
   ]
  },
  {
   "cell_type": "code",
   "execution_count": 213,
   "metadata": {},
   "outputs": [
    {
     "data": {
      "text/plain": [
       "(3, 8, 1)"
      ]
     },
     "execution_count": 213,
     "metadata": {},
     "output_type": "execute_result"
    }
   ],
   "source": [
    "input_shape"
   ]
  }
 ],
 "metadata": {
  "kernelspec": {
   "display_name": "Python 3",
   "language": "python",
   "name": "python3"
  },
  "language_info": {
   "codemirror_mode": {
    "name": "ipython",
    "version": 3
   },
   "file_extension": ".py",
   "mimetype": "text/x-python",
   "name": "python",
   "nbconvert_exporter": "python",
   "pygments_lexer": "ipython3",
   "version": "3.6.3"
  }
 },
 "nbformat": 4,
 "nbformat_minor": 2
}
