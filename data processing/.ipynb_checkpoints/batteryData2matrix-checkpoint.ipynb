{
 "cells": [
  {
   "cell_type": "markdown",
   "metadata": {},
   "source": [
    "battery json data  convert to matrix and input to CNN for train"
   ]
  },
  {
   "cell_type": "code",
   "execution_count": 1,
   "metadata": {
    "collapsed": true
   },
   "outputs": [],
   "source": [
    "#计算真实的SOC值\n",
    "from sklearn import preprocessing \n",
    "from scipy.io import loadmat, whosmat\n",
    "import numpy as np\n",
    "import datetime\n",
    "import json\n",
    "import os\n",
    "\n",
    "def json_load(dictonary):\n",
    "    with open(dictonary) as f:\n",
    "        data = json.load(f)\n",
    "    return data\n",
    "\n",
    "#cycle为行数，循环读取一行数据，对一行数据里面的voltage and current求平均\n",
    "def batteryData2array(battery_data):\n",
    "    vol_sum = 0\n",
    "    cur_sum = 0\n",
    "    temp_sum=0\n",
    "    battery_array = []\n",
    "    for cycle in battery_data.keys():\n",
    "        battery_vols = battery_data[cycle][\"voltage_battery\"]\n",
    "        battery_curs = battery_data[cycle][\"current_battery\"]\n",
    "        battery_temps=battery_data[cycle][\"temp_battery\"]\n",
    "#         print(battery_temps)\n",
    "        for battery_vol in battery_vols:\n",
    "            vol_sum += float(battery_vol)\n",
    "        for battery_cur in battery_curs:\n",
    "            cur_sum += float(battery_cur)\n",
    "        for battery_temp in battery_temps:\n",
    "            temp_sum += float(battery_temp)\n",
    "        #for voltage and current average  & battery_vols,battery_curs,battery_temps's len is equal\n",
    "        num = len(battery_vols)\n",
    "        vol_aver = vol_sum / num\n",
    "        cur_aver = cur_sum / num\n",
    "        temp_aver=temp_sum/num\n",
    "        vol_sum = 0\n",
    "        cur_sum = 0\n",
    "        temp_sum=0\n",
    "#         battery_array.append([abs(vol_aver),abs(cur_aver),abs(temp_aver)])\n",
    "        battery_array.append([vol_aver,cur_aver,temp_aver])\n",
    "#         battery_array.append([vol_aver,cur_aver])\n",
    "    return battery_array\n",
    "\n",
    "# get battery's true soc\n",
    "def  getTrueSOC(battery_discharge_data):\n",
    "    batteryCapcity=2\n",
    "    soc_dict=[]\n",
    "    for cycle in battery_discharge_data.keys():\n",
    "        cycleCapacity=battery_discharge_data[cycle][\"Capacity\"]\n",
    "        soc_true=cycleCapacity[0]/batteryCapcity\n",
    "        soc_dict.append(soc_true)\n",
    "    return soc_dict"
   ]
  },
  {
   "cell_type": "code",
   "execution_count": 2,
   "metadata": {},
   "outputs": [
    {
     "name": "stdout",
     "output_type": "stream",
     "text": [
      "(168, 4)\n",
      "(168,)\n"
     ]
    }
   ],
   "source": [
    "# 获取得到总的图像矩阵  6维特征向量\n",
    "if __name__==\"__main__\":\n",
    "    #get the discharge and charge json data\n",
    "    discharge=r'/home/zsj/yangHong/battery experiment/jsonData/B0005_discharge.json'\n",
    "    discharge_data =json_load(discharge)\n",
    "    charge=r'/home/zsj/yangHong/battery experiment/jsonData/B0005_charge.json'\n",
    "    charge_data = json_load(charge)\n",
    "    \n",
    "    #get the true soc data\n",
    "    \n",
    "    true_soc=getTrueSOC(discharge_data)\n",
    "    \n",
    "    #get the  discharge and charge array data\n",
    "    discharge_array = batteryData2array(discharge_data)\n",
    "    charge_array = batteryData2array(charge_data)\n",
    "    if len(discharge_array) < len(charge_array):\n",
    "        arr_len = len(discharge_array)\n",
    "    else:\n",
    "        arr_len = len(charge_array)\n",
    "#     arr_len = len(discharge_array)\n",
    "    discharge_matrix = np.array(discharge_array[0:arr_len])\n",
    "    charge_matrix = np.array(charge_array[0:arr_len])\n",
    "#     hstack()在行上合并\n",
    "    all = np.hstack((charge_matrix,discharge_matrix))\n",
    "    \n",
    "    #matrix to standardization\n",
    "    data_standardization = preprocessing.StandardScaler()\n",
    "    battery_scaled = data_standardization.fit_transform(all)\n",
    "    print(battery_scaled.shape)\n",
    "    print(np.array(true_soc).shape)"
   ]
  },
  {
   "cell_type": "code",
   "execution_count": 2,
   "metadata": {},
   "outputs": [
    {
     "name": "stdout",
     "output_type": "stream",
     "text": [
      "(168, 3)\n",
      "(168,)\n"
     ]
    }
   ],
   "source": [
    "# 获取得到总的图像矩阵  3维特征向量\n",
    "if __name__==\"__main__\":\n",
    "    #get the discharge and charge json data\n",
    "    discharge=r'/home/zsj/yangHong/battery experiment/jsonData/B0005_discharge.json'\n",
    "    discharge_data =json_load(discharge)\n",
    "    #get the true soc data\n",
    "    \n",
    "    true_soc=getTrueSOC(discharge_data)\n",
    "    \n",
    "    #get the  discharge and charge array data\n",
    "    discharge_array = batteryData2array(discharge_data)\n",
    "    arr_len = len(discharge_array)\n",
    "    discharge_matrix = np.array(discharge_array[0:arr_len])\n",
    "    \n",
    "    print(discharge_matrix.shape)\n",
    "    print(np.array(true_soc).shape)\n",
    "    discharge_matrix=preprocessing.scale(discharge_matrix)\n",
    "    "
   ]
  },
  {
   "cell_type": "code",
   "execution_count": 268,
   "metadata": {},
   "outputs": [
    {
     "name": "stdout",
     "output_type": "stream",
     "text": [
      "x_train's shape is: (144, 8, 3) ，y_train's shape is: (144,)\n",
      "x_test's shape is: (17, 8, 3) ，y_test's shape is: (17,)\n"
     ]
    }
   ],
   "source": [
    "#循环切片形成数据集\n",
    "x=[];y=[]\n",
    "x_train=[];y_train=[];x_test=[];y_test=[]\n",
    "flag=0\n",
    "\n",
    "\n",
    "# 获取得到x,y的数据集\n",
    "for i in range(len(discharge_matrix.tolist())):\n",
    "    #首先截取0--31这段的长度，叠加+1循环得到x\n",
    "    bataery_data_training=discharge_matrix[flag:flag+8,:]\n",
    "#     print(bataery_data_training.shape)\n",
    "    if(len(bataery_data_training)<8):\n",
    "        break\n",
    "    else:\n",
    "        #进行转置，形成3*T的时间维度\n",
    "        x.append(bataery_data_training)\n",
    "    flag+=1\n",
    "y=true_soc[7:]\n",
    "\n",
    "# 获取得到训练集，测试集\n",
    "VALIDATION_SPLIT=0.9\n",
    "x_validation_samples = int( VALIDATION_SPLIT* len(x))\n",
    "y_validation_samples = int( VALIDATION_SPLIT*len(y))\n",
    "x_train=np.array(x[:x_validation_samples])\n",
    "x_test=np.array(x[x_validation_samples:])\n",
    "y_train=np.array(y[:y_validation_samples])\n",
    "y_test=np.array(y[y_validation_samples:])\n",
    "print(\"x_train's shape is:\", x_train.shape,\"，y_train's shape is:\",y_train.shape)\n",
    "print(\"x_test's shape is:\",x_test.shape,\"，y_test's shape is:\",y_test.shape)"
   ]
  },
  {
   "cell_type": "code",
   "execution_count": 4,
   "metadata": {},
   "outputs": [
    {
     "name": "stderr",
     "output_type": "stream",
     "text": [
      "Using TensorFlow backend.\n"
     ]
    }
   ],
   "source": [
    "#写一个LossHistory类，保存loss和mae\n",
    "from __future__ import print_function\n",
    "import keras\n",
    "from keras.datasets import mnist\n",
    "from keras.models import Sequential\n",
    "from keras.layers import Dense, Dropout, Flatten, Conv2D, MaxPooling2D,Convolution2D\n",
    "from keras import backend as k\n",
    "import matplotlib.pyplot as plt\n",
    "import numpy as np\n",
    "from keras import backend as K\n",
    "class LossHistory(keras.callbacks.Callback):\n",
    "    def on_train_begin(self, logs={}):\n",
    "        self.losses = {'batch':[], 'epoch':[]}\n",
    "        self.accuracy = {'batch':[], 'epoch':[]}\n",
    "        self.val_loss = {'batch':[], 'epoch':[]}\n",
    "        self.val_acc = {'batch':[], 'epoch':[]}\n",
    "\n",
    "    def on_batch_end(self, batch, logs={}):\n",
    "        self.losses['batch'].append(logs.get('loss'))\n",
    "        self.accuracy['batch'].append(logs.get('mean_absolute_error'))\n",
    "        self.val_loss['batch'].append(logs.get('val_loss'))\n",
    "        self.val_acc['batch'].append(logs.get('val_mean_absolute_error'))\n",
    "\n",
    "    def on_epoch_end(self, batch, logs={}):\n",
    "        self.losses['epoch'].append(logs.get('loss'))\n",
    "        self.accuracy['epoch'].append(logs.get('mean_absolute_error'))\n",
    "        self.val_loss['epoch'].append(logs.get('val_loss'))\n",
    "        self.val_acc['epoch'].append(logs.get('val_mean_absolute_error'))\n",
    "\n",
    "    def loss_plot(self, loss_type):\n",
    "        iters = range(len(self.losses[loss_type]))\n",
    "        plt.figure()\n",
    "        # mae\n",
    "        plt.plot(iters, self.accuracy[loss_type], 'r', label='train mae')\n",
    "        # loss\n",
    "        plt.plot(iters, self.losses[loss_type], 'g', label='train loss')\n",
    "        if loss_type == 'epoch':\n",
    "            # val_mean_absolute_error\n",
    "            plt.plot(iters, self.val_acc[loss_type], 'b', label='val mean absolute error')\n",
    "            # val_loss\n",
    "            plt.plot(iters, self.val_loss[loss_type], 'k', label='val loss')\n",
    "        plt.grid(True)\n",
    "        plt.xlabel(loss_type)\n",
    "        plt.ylabel('mae-loss')\n",
    "        plt.legend(loc=\"upper right\")\n",
    "        plt.show()"
   ]
  },
  {
   "cell_type": "code",
   "execution_count": 375,
   "metadata": {
    "scrolled": false
   },
   "outputs": [
    {
     "name": "stdout",
     "output_type": "stream",
     "text": [
      "Train on 129 samples, validate on 15 samples\n",
      "Epoch 1/32\n",
      "129/129 [==============================] - 0s - loss: 0.0933 - mean_absolute_error: 0.2960 - val_loss: 0.0198 - val_mean_absolute_error: 0.1400\n",
      "Epoch 2/32\n",
      "129/129 [==============================] - 0s - loss: 0.0906 - mean_absolute_error: 0.2916 - val_loss: 0.0186 - val_mean_absolute_error: 0.1356\n",
      "Epoch 3/32\n",
      "129/129 [==============================] - 0s - loss: 0.0880 - mean_absolute_error: 0.2874 - val_loss: 0.0175 - val_mean_absolute_error: 0.1314\n",
      "Epoch 4/32\n",
      "129/129 [==============================] - 0s - loss: 0.0857 - mean_absolute_error: 0.2834 - val_loss: 0.0159 - val_mean_absolute_error: 0.1254\n",
      "Epoch 5/32\n",
      "129/129 [==============================] - 0s - loss: 0.0835 - mean_absolute_error: 0.2795 - val_loss: 0.0149 - val_mean_absolute_error: 0.1214\n",
      "Epoch 6/32\n",
      "129/129 [==============================] - 0s - loss: 0.0816 - mean_absolute_error: 0.2761 - val_loss: 0.0137 - val_mean_absolute_error: 0.1160\n",
      "Epoch 7/32\n",
      "129/129 [==============================] - 0s - loss: 0.0788 - mean_absolute_error: 0.2711 - val_loss: 0.0127 - val_mean_absolute_error: 0.1118\n",
      "Epoch 8/32\n",
      "129/129 [==============================] - 0s - loss: 0.0764 - mean_absolute_error: 0.2670 - val_loss: 0.0116 - val_mean_absolute_error: 0.1065\n",
      "Epoch 9/32\n",
      "129/129 [==============================] - 0s - loss: 0.0746 - mean_absolute_error: 0.2634 - val_loss: 0.0107 - val_mean_absolute_error: 0.1025\n",
      "Epoch 10/32\n",
      "129/129 [==============================] - 0s - loss: 0.0724 - mean_absolute_error: 0.2595 - val_loss: 0.0100 - val_mean_absolute_error: 0.0988\n",
      "Epoch 11/32\n",
      "129/129 [==============================] - 0s - loss: 0.0704 - mean_absolute_error: 0.2557 - val_loss: 0.0092 - val_mean_absolute_error: 0.0949\n",
      "Epoch 12/32\n",
      "129/129 [==============================] - 0s - loss: 0.0682 - mean_absolute_error: 0.2516 - val_loss: 0.0085 - val_mean_absolute_error: 0.0910\n",
      "Epoch 13/32\n",
      "129/129 [==============================] - 0s - loss: 0.0660 - mean_absolute_error: 0.2474 - val_loss: 0.0079 - val_mean_absolute_error: 0.0876\n",
      "Epoch 14/32\n",
      "129/129 [==============================] - 0s - loss: 0.0642 - mean_absolute_error: 0.2439 - val_loss: 0.0073 - val_mean_absolute_error: 0.0839\n",
      "Epoch 15/32\n",
      "129/129 [==============================] - 0s - loss: 0.0620 - mean_absolute_error: 0.2397 - val_loss: 0.0065 - val_mean_absolute_error: 0.0796\n",
      "Epoch 16/32\n",
      "129/129 [==============================] - 0s - loss: 0.0605 - mean_absolute_error: 0.2365 - val_loss: 0.0060 - val_mean_absolute_error: 0.0762\n",
      "Epoch 17/32\n",
      "129/129 [==============================] - 0s - loss: 0.0590 - mean_absolute_error: 0.2334 - val_loss: 0.0054 - val_mean_absolute_error: 0.0720\n",
      "Epoch 18/32\n",
      "129/129 [==============================] - 0s - loss: 0.0576 - mean_absolute_error: 0.2303 - val_loss: 0.0050 - val_mean_absolute_error: 0.0689\n",
      "Epoch 19/32\n",
      "129/129 [==============================] - 0s - loss: 0.0561 - mean_absolute_error: 0.2271 - val_loss: 0.0045 - val_mean_absolute_error: 0.0654\n",
      "Epoch 20/32\n",
      "129/129 [==============================] - 0s - loss: 0.0542 - mean_absolute_error: 0.2231 - val_loss: 0.0041 - val_mean_absolute_error: 0.0621\n",
      "Epoch 21/32\n",
      "129/129 [==============================] - 0s - loss: 0.0525 - mean_absolute_error: 0.2194 - val_loss: 0.0037 - val_mean_absolute_error: 0.0590\n",
      "Epoch 22/32\n",
      "129/129 [==============================] - 0s - loss: 0.0510 - mean_absolute_error: 0.2161 - val_loss: 0.0033 - val_mean_absolute_error: 0.0556\n",
      "Epoch 23/32\n",
      "129/129 [==============================] - 0s - loss: 0.0492 - mean_absolute_error: 0.2122 - val_loss: 0.0029 - val_mean_absolute_error: 0.0522\n",
      "Epoch 24/32\n",
      "129/129 [==============================] - 0s - loss: 0.0475 - mean_absolute_error: 0.2083 - val_loss: 0.0026 - val_mean_absolute_error: 0.0491\n",
      "Epoch 25/32\n",
      "129/129 [==============================] - 0s - loss: 0.0463 - mean_absolute_error: 0.2055 - val_loss: 0.0023 - val_mean_absolute_error: 0.0459\n",
      "Epoch 26/32\n",
      "129/129 [==============================] - 0s - loss: 0.0447 - mean_absolute_error: 0.2017 - val_loss: 0.0020 - val_mean_absolute_error: 0.0427\n",
      "Epoch 27/32\n",
      "129/129 [==============================] - 0s - loss: 0.0436 - mean_absolute_error: 0.1989 - val_loss: 0.0018 - val_mean_absolute_error: 0.0395\n",
      "Epoch 28/32\n",
      "129/129 [==============================] - 0s - loss: 0.0420 - mean_absolute_error: 0.1950 - val_loss: 0.0015 - val_mean_absolute_error: 0.0361\n",
      "Epoch 29/32\n",
      "129/129 [==============================] - 0s - loss: 0.0404 - mean_absolute_error: 0.1911 - val_loss: 0.0013 - val_mean_absolute_error: 0.0330\n",
      "Epoch 30/32\n",
      "129/129 [==============================] - ETA: 0s - loss: 0.0365 - mean_absolute_error: 0.182 - 0s - loss: 0.0393 - mean_absolute_error: 0.1884 - val_loss: 0.0011 - val_mean_absolute_error: 0.0302\n",
      "Epoch 31/32\n",
      "129/129 [==============================] - 0s - loss: 0.0381 - mean_absolute_error: 0.1852 - val_loss: 9.3965e-04 - val_mean_absolute_error: 0.0269\n",
      "Epoch 32/32\n",
      "129/129 [==============================] - 0s - loss: 0.0371 - mean_absolute_error: 0.1825 - val_loss: 8.0755e-04 - val_mean_absolute_error: 0.0243\n",
      "Test MSE Score:     0.009 %\n",
      "Test MAE Score:     0.749 %\n"
     ]
    }
   ],
   "source": [
    "#使用cnn训练的模型\n",
    "from __future__ import print_function\n",
    "import keras\n",
    "from keras.datasets import mnist\n",
    "from keras.models import Sequential\n",
    "from keras.layers import Dense, Dropout, Flatten, Conv2D, MaxPooling2D,Convolution2D\n",
    "from keras import backend as k\n",
    "import matplotlib.pyplot as plt\n",
    "import numpy as np\n",
    "from keras import backend as K\n",
    "\n",
    "num=1\n",
    "img_rows, img_cols =x_train.shape[1],x_train.shape[2]\n",
    "if K.image_dim_ordering() == 'th':\n",
    "    x_train = x_train.reshape(x_train.shape[0], 1, img_rows, img_cols)\n",
    "    x_test = x_test.reshape(x_test.shape[0], 1, img_rows, img_cols)\n",
    "    input_shape = (1, img_rows, img_cols)\n",
    "else:\n",
    "    x_train = x_train.reshape(x_train.shape[0], img_rows, img_cols, 1)\n",
    "    x_test = x_test.reshape(x_test.shape[0], img_rows, img_cols, 1)\n",
    "    input_shape = (img_rows, img_cols, 1)\n",
    "# print(x_train.shape,x_test.shape)\n",
    "# print(y_train.shape)\n",
    "# keras序贯模型搭建CNN\n",
    "# model building\n",
    "model = Sequential()\n",
    "#convolutional layer with rectified linear unit activation\n",
    "model.add(Conv2D(32, kernel_size=(3,3),\n",
    "                 activation='relu',\n",
    "                 input_shape=input_shape,padding=\"same\"))\n",
    "#32 convolution filters used each of size 3x3\n",
    "#again\n",
    "model.add(Conv2D(32, (3,3), activation='relu',padding=\"same\"))\n",
    "#64 convolution filters used each of size 3x3\n",
    "#choose the best features via pooling\n",
    "model.add(MaxPooling2D(pool_size=(2, 2)))\n",
    "\n",
    "#randomly turn neurons on and off to improve convergence\n",
    "# model.add(Dropout(0.25))\n",
    "#flatten since too many dimensions, we only want a classification output\n",
    "model.add(Flatten())\n",
    "#fully connected to get all relevant data\n",
    "model.add(Dense(32, activation='relu'))\n",
    "# model.add(Dense(16, activation='relu'))\n",
    "# model.add(Dropout(0.25))\n",
    "#one more dropout for convergence' sake :) \n",
    "#output a softmax to squash the matrix into output probabilities\n",
    "model.add(Dense(num, activation='sigmoid'))\n",
    "\n",
    "#Adaptive learning rate (adaDelta) is a popular form of gradient descent rivaled only by adam and adagrad\n",
    "#categorical ce since we have multiple classes (10) \n",
    "# model.compile(loss=keras.losses.sparse_categorical_crossentropy,\n",
    "#               optimizer=keras.optimizers.Adadelta(),\n",
    "#               metrics=['accuracy'])\n",
    "#回归问题评价指标使用mae\n",
    "model.compile(loss='mse', optimizer=\"sgd\", metrics=[\"mae\"])\n",
    "\n",
    "\n",
    "batch_size =64\n",
    "num_epoch = 32\n",
    "#model training\n",
    "history = LossHistory()\n",
    "model.fit(x_train, y_train,\n",
    "          batch_size=batch_size,\n",
    "          epochs=num_epoch,\n",
    "          verbose=1,validation_split=0.1,callbacks=[history])\n",
    "\n",
    "mse_score,mae_score= model.evaluate(x_test, y_test, verbose=0)\n",
    "print('Test MSE Score:%10.3f %%'% (mse_score*100)) \n",
    "print('Test MAE Score:%10.3f %%'% (mae_score*100))\n",
    "\n",
    "\n",
    "#test\n",
    "# out = model.predict(x_prd, batch_size=1)\n",
    "# #plot prediction data\n",
    " \n",
    "# ax.plot(x_prd, out, 'k--', lw=4)\n",
    "\n",
    "# ax.set_xlabel('Measured')\n",
    "# ax.set_ylabel('Predicted')\n",
    "# plt.show()\n",
    "# figures(hist)\n",
    "\n",
    "\n",
    "# Save the model\n",
    "# serialize model to JSON\n",
    "# model_digit_json = model.to_json()\n",
    "# with open(\"model_digit.json\", \"w\") as json_file:\n",
    "#     json_file.write(model_digit_json)\n",
    "# # serialize weights to HDF5\n",
    "# model.save_weights(\"model_.h5\")\n",
    "# print(\"Saved model to disk\")"
   ]
  },
  {
   "cell_type": "code",
   "execution_count": 376,
   "metadata": {},
   "outputs": [
    {
     "data": {
      "image/png": "[encoded data removed]",
      "text/plain": [
       "<matplotlib.figure.Figure at 0x7fb36f5ee630>"
      ]
     },
     "metadata": {},
     "output_type": "display_data"
    }
   ],
   "source": [
    "#绘制mae-loss曲线\n",
    "history.loss_plot('epoch')"
   ]
  },
  {
   "cell_type": "code",
   "execution_count": 353,
   "metadata": {},
   "outputs": [
    {
     "data": {
      "text/plain": [
       "['loss', 'mean_absolute_error']"
      ]
     },
     "execution_count": 353,
     "metadata": {},
     "output_type": "execute_result"
    }
   ],
   "source": [
    "#evaluate返回的指标参数含义 loss为mse\n",
    "model.metrics_names"
   ]
  },
  {
   "cell_type": "code",
   "execution_count": 387,
   "metadata": {},
   "outputs": [
    {
     "name": "stdout",
     "output_type": "stream",
     "text": [
      "[[0.65637815]\n",
      " [0.6648594 ]\n",
      " [0.65539336]\n",
      " [0.64688367]\n",
      " [0.64668673]\n",
      " [0.6512308 ]\n",
      " [0.64792365]\n",
      " [0.6490709 ]\n",
      " [0.65171057]\n",
      " [0.6531949 ]\n",
      " [0.656466  ]\n",
      " [0.65677464]\n",
      " [0.65825987]\n",
      " [0.6610705 ]\n",
      " [0.661358  ]\n",
      " [0.661841  ]\n",
      " [0.6631579 ]]\n"
     ]
    }
   ],
   "source": [
    "pred=model.predict(x_test, batch_size=16, verbose=0)\n",
    "print(pred)"
   ]
  },
  {
   "cell_type": "code",
   "execution_count": 389,
   "metadata": {},
   "outputs": [
    {
     "name": "stdout",
     "output_type": "stream",
     "text": [
      "range(0, 168) \n",
      "-----------------------： range(152, 169)\n"
     ]
    },
    {
     "data": {
      "image/png": "[encoded data removed]",
      "text/plain": [
       "<matplotlib.figure.Figure at 0x7fb36c632438>"
      ]
     },
     "metadata": {},
     "output_type": "display_data"
    }
   ],
   "source": [
    "import pandas as pd # 导入pandas库用来处理csv文件\n",
    "import matplotlib.pyplot as plt # 导入matplotlib.pyplot并用plt简称\n",
    "\n",
    "x_true_soc=range(len(true_soc))\n",
    "start=x_train.shape[0]+x_train.shape[1]\n",
    "x_test_soc=range(start,start+pred.shape[0])\n",
    "print(x_true_soc,\"\\n-----------------------：\",x_test_soc)\n",
    "plt.plot(x_true_soc, true_soc, linewidth=2.0, color='r',label=\"True SOC\")#线的宽度为2.0，颜色为红色\n",
    "plt.plot(x_test_soc, pred, linewidth=2.0, color='green',label=\"Test SOC\")#线的宽度为2.0，颜色为红色\n",
    "plt.show()#显示图像\n"
   ]
  }
 ],
 "metadata": {
  "kernelspec": {
   "display_name": "Python 3",
   "language": "python",
   "name": "python3"
  },
  "language_info": {
   "codemirror_mode": {
    "name": "ipython",
    "version": 3
   },
   "file_extension": ".py",
   "mimetype": "text/x-python",
   "name": "python",
   "nbconvert_exporter": "python",
   "pygments_lexer": "ipython3",
   "version": "3.6.3"
  }
 },
 "nbformat": 4,
 "nbformat_minor": 2
}
