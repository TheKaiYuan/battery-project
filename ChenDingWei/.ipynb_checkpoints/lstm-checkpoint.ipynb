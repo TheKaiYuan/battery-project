{
 "cells": [
  {
   "cell_type": "code",
   "execution_count": 1,
   "metadata": {},
   "outputs": [],
   "source": [
    "import scipy.io as spy\n",
    "from pandas import DataFrame\n",
    "import pandas as pd\n",
    "import numpy as np\n",
    "import matplotlib.pyplot as plt\n",
    "\n",
    "\n",
    "def get_data():\n",
    "    data = spy.loadmat('03-28-17_12.51 10degC_Cycle_1_Pan18650PF.mat')\n",
    "    vol = data['meas'][0][0][1].tolist()\n",
    "    cur = data['meas'][0][0][2].tolist()\n",
    "    tem = data['meas'][0][0][6].tolist()\n",
    "    ah = data['meas'][0][0][3].tolist()\n",
    "    return vol, cur, tem, ah\n",
    "\n",
    "def get_traindata(vol, cur, tem, ah, timestep,SOC_INIT):\n",
    "    train_data = []\n",
    "    temp_data = []\n",
    "    vol_data = []\n",
    "    cur_data = []\n",
    "    tem_data = []\n",
    "    ah_data = []\n",
    "    x = []\n",
    "    y = []\n",
    "    x_train = []\n",
    "    y_train = []\n",
    "    x_test = []\n",
    "    y_test = []\n",
    "    x_train_data = []\n",
    "    soc_data = []\n",
    "    flag = 0\n",
    "    for i in range(len(vol)):\n",
    "        vol_data.append(vol[i][0])\n",
    "        cur_data.append(cur[i][0])\n",
    "        tem_data.append(tem[i][0])\n",
    "        ah_data.append(ah[i][0])\n",
    "    \n",
    "    for m in range(len(vol_data)):\n",
    "        temp_data.append(vol_data[m])\n",
    "        temp_data.append(cur_data[m])\n",
    "        temp_data.append(tem_data[m])\n",
    "        train_data.append(temp_data[:])\n",
    "        del temp_data[:]\n",
    "        soc_data.append(SOC_INIT + ah_data[m])\n",
    "\n",
    "    for n in range(len(vol_data)):\n",
    "        x_train_data = train_data[flag:flag+timestep]\n",
    "        if(len(x_train_data) < timestep):\n",
    "            break\n",
    "        else:\n",
    "            x.append(x_train_data)\n",
    "        flag += 1\n",
    "\n",
    "    y = soc_data[timestep-1:]\n",
    "\n",
    "    VALIDATION_SPLIT = 0.9\n",
    "    x_validation_samples = int(VALIDATION_SPLIT * len(x))\n",
    "    y_validation_samples = int(VALIDATION_SPLIT * len(y))\n",
    "\n",
    "    x_train = np.array(x[:x_validation_samples])\n",
    "    y_train = np.array(y[:y_validation_samples])\n",
    "    x_test = np.array(x[x_validation_samples:])\n",
    "    y_test = np.array(y[y_validation_samples:])\n",
    "    return x_train, y_train, x_test, y_test"
   ]
  },
  {
   "cell_type": "markdown",
   "metadata": {},
   "source": [
    "battery json data  convert to matrix and input to CNN for train,no capacity feature"
   ]
  },
  {
   "cell_type": "code",
   "execution_count": 2,
   "metadata": {},
   "outputs": [
    {
     "name": "stdout",
     "output_type": "stream",
     "text": [
      "(84190, 250, 3) (84190,) (9355, 250, 3) (9355,)\n"
     ]
    }
   ],
   "source": [
    "TIME_STEP = 250\n",
    "SOC_INIT = 2.9\n",
    "vol, cur, tem, ah = get_data()\n",
    "x_train, y_train, x_test, y_test = get_traindata(vol,cur,tem,ah,TIME_STEP,SOC_INIT)\n",
    "print(x_train.shape, y_train.shape, x_test.shape, y_test.shape)\n"
   ]
  },
  {
   "cell_type": "code",
   "execution_count": 3,
   "metadata": {},
   "outputs": [
    {
     "name": "stderr",
     "output_type": "stream",
     "text": [
      "Using TensorFlow backend.\n"
     ]
    }
   ],
   "source": [
    "#写一个LossHistory类，保存loss和mae\n",
    "from __future__ import print_function\n",
    "import keras\n",
    "from keras.datasets import mnist\n",
    "from keras.models import Sequential\n",
    "from keras.layers import Dense, Dropout, Flatten, Conv2D, MaxPooling2D,Convolution2D\n",
    "from keras import backend as k\n",
    "import matplotlib.pyplot as plt\n",
    "import numpy as np\n",
    "from keras import backend as K\n",
    "class LossHistory(keras.callbacks.Callback):\n",
    "    def on_train_begin(self, logs={}):\n",
    "        self.losses = {'batch':[], 'epoch':[]}\n",
    "        self.accuracy = {'batch':[], 'epoch':[]}\n",
    "        self.val_loss = {'batch':[], 'epoch':[]}\n",
    "        self.val_acc = {'batch':[], 'epoch':[]}\n",
    "\n",
    "    def on_batch_end(self, batch, logs={}):\n",
    "        self.losses['batch'].append(logs.get('loss'))\n",
    "        self.accuracy['batch'].append(logs.get('mean_absolute_error'))\n",
    "        self.val_loss['batch'].append(logs.get('val_loss'))\n",
    "        self.val_acc['batch'].append(logs.get('val_mean_absolute_error'))\n",
    "\n",
    "    def on_epoch_end(self, batch, logs={}):\n",
    "        self.losses['epoch'].append(logs.get('loss'))\n",
    "        self.accuracy['epoch'].append(logs.get('mean_absolute_error'))\n",
    "        self.val_loss['epoch'].append(logs.get('val_loss'))\n",
    "        self.val_acc['epoch'].append(logs.get('val_mean_absolute_error'))\n",
    "\n",
    "    def loss_plot(self, loss_type):\n",
    "        iters = range(len(self.losses[loss_type]))\n",
    "        plt.figure()\n",
    "        # mae\n",
    "        plt.plot(iters, self.accuracy[loss_type], 'r', label='train mae')\n",
    "        # loss\n",
    "        plt.plot(iters, self.losses[loss_type], 'g', label='train loss')\n",
    "        if loss_type == 'epoch':\n",
    "            # val_mean_absolute_error\n",
    "            plt.plot(iters, self.val_acc[loss_type], 'b', label='val mean absolute error')\n",
    "            # val_loss\n",
    "            plt.plot(iters, self.val_loss[loss_type], 'k', label='val loss')\n",
    "        plt.grid(True)\n",
    "        plt.xlabel(loss_type)\n",
    "        plt.ylabel('mae-loss')\n",
    "        plt.legend(loc=\"upper right\")\n",
    "        plt.show()"
   ]
  },
  {
   "cell_type": "markdown",
   "metadata": {},
   "source": [
    "基于序贯(Sequential)编程方式的模型"
   ]
  },
  {
   "cell_type": "code",
   "execution_count": null,
   "metadata": {
    "scrolled": false
   },
   "outputs": [
    {
     "name": "stderr",
     "output_type": "stream",
     "text": [
      "/home/battery/.local/lib/python3.6/site-packages/ipykernel_launcher.py:31: UserWarning: Update your `BatchNormalization` call to the Keras 2 API: `BatchNormalization(input_shape=(250, 3), epsilon=1e-06, axis=1)`\n"
     ]
    },
    {
     "name": "stdout",
     "output_type": "stream",
     "text": [
      "WARNING:tensorflow:From /usr/lib/python3/dist-packages/keras/backend/tensorflow_backend.py:1242: calling reduce_sum (from tensorflow.python.ops.math_ops) with keep_dims is deprecated and will be removed in a future version.\n",
      "Instructions for updating:\n",
      "keep_dims is deprecated, use keepdims instead\n",
      "WARNING:tensorflow:From /usr/lib/python3/dist-packages/keras/backend/tensorflow_backend.py:1344: calling reduce_mean (from tensorflow.python.ops.math_ops) with keep_dims is deprecated and will be removed in a future version.\n",
      "Instructions for updating:\n",
      "keep_dims is deprecated, use keepdims instead\n",
      "Epoch 1/10\n"
     ]
    }
   ],
   "source": [
    "#使用cnn训练的模型\n",
    "from __future__ import print_function\n",
    "import keras\n",
    "from keras.datasets import mnist\n",
    "from keras.models import Sequential\n",
    "from keras.layers import Dense, Dropout, Flatten, Conv2D, MaxPooling2D,Convolution2D,GRU,LSTM,Bidirectional\n",
    "from keras import backend as K\n",
    "import matplotlib.pyplot as plt\n",
    "import numpy as np\n",
    "from keras import regularizers\n",
    "from keras.optimizers import SGD, Adam\n",
    "from keras.layers.normalization import BatchNormalization\n",
    "from keras.callbacks import EarlyStopping\n",
    "# 引用GPU命令\n",
    "import os\n",
    "os.environ[\"CUDA_VISIBLE_DEVICES\"] = \"0\"\n",
    "\n",
    "img_rows, img_cols =x_train.shape[1],x_train.shape[2]\n",
    "num=1\n",
    "\n",
    "#parameters for LSTM\n",
    "# cell 里面有四个黄色小框里面，每个小黄框里面的神经元个数\n",
    "nb_lstm_outputs =500 #神经元个数\n",
    "nb_time_steps = img_rows  #时间序列长度\n",
    "nb_input_vector=img_cols\n",
    "\n",
    "# ,dropout=0.20, recurrent_dropout=0.20,return_sequences=True\n",
    "tor = img_cols #输入特征序列\n",
    "#build model\n",
    "model = Sequential()\n",
    "model.add(BatchNormalization(input_shape=(nb_time_steps, nb_input_vector),epsilon=1e-06,axis=1,mode=0))  \n",
    "# dropout=0.2, recurrent_dropout=0.1,属性return_sequences用于返回数据用于下一层的lstm单元训练\n",
    "model.add(GRU(units=nb_lstm_outputs, input_shape=(nb_time_steps, nb_input_vector),dropout=0.20, recurrent_dropout=0.20,activation='tanh'))\n",
    "# # model.add(GRU(64, dropout=0.2, recurrent_dropout=0.1,return_sequences=True))\n",
    "# model.add(GRU(64, dropout=0.20,recurrent_dropout=0.20))\n",
    "# model.add(Dropout(0.20))\n",
    "# # model.add(BatchNormalization())\n",
    "# model.add(Dense(32, activation='relu',kernel_regularizer=regularizers.l2(0.001)))\n",
    "# model.add(Dropout(0.20))\n",
    "\n",
    "# model.add(Dense(32, activation='relu'))\n",
    "# model.add(Dropout(0.20))\n",
    "model.add(Dense(num,activation=\"relu\"))\n",
    "\n",
    "\n",
    "\n",
    "\n",
    "#回归问题评价指标使用mae\n",
    "model.compile(loss='mse', optimizer=\"adam\", metrics=[\"mae\"])\n",
    "\n",
    "\n",
    "batch_size =64\n",
    "num_epoch =16\n",
    "\n",
    "#model training\n",
    "history = LossHistory()\n",
    "\n",
    "# early_stopping = EarlyStopping(monitor='val_loss', patience=10, verbose=2)\n",
    "\n",
    "history = model.fit(x_test, y_test,\n",
    "          batch_size=batch_size,\n",
    "          epochs=num_epoch,\n",
    "          verbose=1,shuffle=True,callbacks=[history])\n",
    "\n",
    "mse_score,mae_score= model.evaluate(x_test, y_test, verbose=0)\n",
    "print('Test MSE Score:%.3f %%'% (mse_score*100)) \n",
    "print('Test MAE Score:%.3f %%'% (mae_score*100))\n",
    "\n"
   ]
  },
  {
   "cell_type": "code",
   "execution_count": 42,
   "metadata": {
    "scrolled": true
   },
   "outputs": [
    {
     "data": {
      "image/png": "[encoded data removed]",
      "text/plain": [
       "<matplotlib.figure.Figure at 0x7f56ac0989e8>"
      ]
     },
     "metadata": {
      "needs_background": "light"
     },
     "output_type": "display_data"
    }
   ],
   "source": [
    "iters = range(len(history.history['loss']))\n",
    "\n",
    "plt.figure()\n",
    "plt.plot(iters, history.history['loss'], color = 'red', label='train mse')\n",
    "    plt.plot(iters, history.history[\"mean_absolute_error\"],color = 'green', label='train mae')\n",
    "    plt.show()"
   ]
  },
  {
   "cell_type": "code",
   "execution_count": 29,
   "metadata": {},
   "outputs": [
    {
     "name": "stdout",
     "output_type": "stream",
     "text": [
      "(84190, 1)\n"
     ]
    }
   ],
   "source": [
    "pred=model.predict(x_train, batch_size=16, verbose=0)\n",
    "print(pred.shape)"
   ]
  },
  {
   "cell_type": "code",
   "execution_count": 30,
   "metadata": {
    "scrolled": true
   },
   "outputs": [
    {
     "name": "stdout",
     "output_type": "stream",
     "text": [
      "[[2.651748 ]\n",
      " [2.6375036]\n",
      " [2.6114228]\n",
      " ...\n",
      " [1.2953032]\n",
      " [1.2966654]\n",
      " [1.290009 ]]\n"
     ]
    },
    {
     "data": {
      "image/png": "[encoded data removed]",
      "text/plain": [
       "<matplotlib.figure.Figure at 0x7f56b46a5978>"
      ]
     },
     "metadata": {
      "needs_background": "light"
     },
     "output_type": "display_data"
    }
   ],
   "source": [
    "import matplotlib.pyplot as plt # 导入matplotlib.pyplot并用plt简称\n",
    "\n",
    "print(pred)\n",
    "x_axix = range(TIME_STEP,TIME_STEP+pred.shape[0])\n",
    "plt.plot(x_axix, y_train, color='red',label=\"Measured\")\n",
    "plt.plot(x_axix, pred, color='green',label=\"Estimated\") \n",
    "\n",
    "plt.xlabel('sample')\n",
    "plt.ylabel('SOC')\n",
    "plt.legend()\n",
    "plt.show()\n"
   ]
  },
  {
   "cell_type": "code",
   "execution_count": null,
   "metadata": {},
   "outputs": [],
   "source": []
  }
 ],
 "metadata": {
  "kernelspec": {
   "display_name": "Python 3",
   "language": "python",
   "name": "python3"
  },
  "language_info": {
   "codemirror_mode": {
    "name": "ipython",
    "version": 3
   },
   "file_extension": ".py",
   "mimetype": "text/x-python",
   "name": "python",
   "nbconvert_exporter": "python",
   "pygments_lexer": "ipython3",
   "version": "3.6.7"
  }
 },
 "nbformat": 4,
 "nbformat_minor": 2
}
