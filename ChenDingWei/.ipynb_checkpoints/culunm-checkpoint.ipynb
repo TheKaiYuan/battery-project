{
 "cells": [
  {
   "cell_type": "code",
   "execution_count": 1,
   "metadata": {},
   "outputs": [
    {
     "ename": "SyntaxError",
     "evalue": "invalid syntax (<ipython-input-1-8a0ec10298ff>, line 17)",
     "output_type": "error",
     "traceback": [
      "\u001b[0;36m  File \u001b[0;32m\"<ipython-input-1-8a0ec10298ff>\"\u001b[0;36m, line \u001b[0;32m17\u001b[0m\n\u001b[0;31m    Now when creating your session pass this config to it.\u001b[0m\n\u001b[0m           ^\u001b[0m\n\u001b[0;31mSyntaxError\u001b[0m\u001b[0;31m:\u001b[0m invalid syntax\n"
     ]
    }
   ],
   "source": [
    "import scipy.io as spy\n",
    "from pandas import DataFrame\n",
    "import pandas as pd\n",
    "import numpy as np\n",
    "import matplotlib.pyplot as plt\n",
    "import scipy.integrate as sci\n",
    "from keras.models import Sequential\n",
    "from keras.layers import LSTM, Dense, TimeDistributed, GRU, BatchNormalization\n",
    "from keras.optimizers import Adam \n",
    "import os \n",
    "# os.environ['TF_CPP_MIN_LOG_LEVEL'] = '2'\n",
    "import tensorflow as tf  \n",
    "os.environ[\"CUDA_VISIBLE_DEVICES\"] =\"0\"\n",
    "\n",
    "config = tf.ConfigProto()\n",
    "config.gpu_options.allow_growth = True\n",
    "Now when creating your session pass this config to it.\n",
    "sess = tf.Session(config=config)\n",
    "def get_data():\n",
    "    data = spy.loadmat('03-28-17_12.51 10degC_Cycle_1_Pan18650PF.mat')\n",
    "    cur = data['meas'][0][0][2].tolist()\n",
    "    ah = data['meas'][0][0][3].tolist()\n",
    "    time = data['meas'][0][0][7].tolist()\n",
    "    return cur, ah, time\n",
    "\n",
    "def get_traindata(cur, ah, time, timestep,SOC_INIT):\n",
    "    cur_data = []\n",
    "    ah_data = []\n",
    "    time_data = []\n",
    "    soc_data = []\n",
    "\n",
    "    x = []\n",
    "    y = []\n",
    "\n",
    "    x_train = []\n",
    "    y_train = []\n",
    "    x_test = []\n",
    "    y_test = []\n",
    "\n",
    "    flag = 0\n",
    "    for i in range(len(cur)):\n",
    "        cur_data.append(cur[i][0])\n",
    "        time_data.append(time[i][0])\n",
    "        ah_data.append(ah[i][0])\n",
    "        soc_data.append(SOC_INIT + ah_data[i])\n",
    "\n",
    "    for flag in range(len(cur_data)):\n",
    "        cur_temp_data = cur_data[flag:flag+timestep]\n",
    "        time_temp_data = time_data[flag:flag+timestep]\n",
    "        temp_soc = sci.simps(cur_temp_data,time_temp_data) / 3600\n",
    "        if(len(cur_temp_data) < timestep):\n",
    "            break\n",
    "        else:\n",
    "            \n",
    "            x.append(soc_data[flag] - temp_soc)\n",
    "            # x.append(sci.simps(cur_temp_data,time_temp_data))\n",
    "        # flag += 1\n",
    "\n",
    "\n",
    "    y = soc_data[timestep-1:]\n",
    "    # print(y[0:10])\n",
    "    VALIDATION_SPLIT = 0.9\n",
    "    x_validation_samples = int(VALIDATION_SPLIT * len(x))\n",
    "    y_validation_samples = int(VALIDATION_SPLIT * len(y))\n",
    "\n",
    "    x_train = np.array(x[:x_validation_samples])\n",
    "    y_train = np.array(y[:y_validation_samples])\n",
    "    x_test = np.array(x[x_validation_samples:])\n",
    "    y_test = np.array(y[y_validation_samples:])\n",
    "    return x_train, y_train, x_test, y_test, x, y"
   ]
  },
  {
   "cell_type": "code",
   "execution_count": 2,
   "metadata": {
    "scrolled": true
   },
   "outputs": [
    {
     "name": "stderr",
     "output_type": "stream",
     "text": [
      "/home/battery/.local/lib/python3.6/site-packages/scipy/integrate/quadrature.py:358: RuntimeWarning: divide by zero encountered in true_divide\n",
      "  h0divh1 = h0 / h1\n",
      "/home/battery/.local/lib/python3.6/site-packages/scipy/integrate/quadrature.py:360: RuntimeWarning: invalid value encountered in true_divide\n",
      "  y[slice1]*hsum*hsum/hprod +\n",
      "/home/battery/.local/lib/python3.6/site-packages/scipy/integrate/quadrature.py:361: RuntimeWarning: invalid value encountered in multiply\n",
      "  y[slice2]*(2-h0divh1))\n"
     ]
    }
   ],
   "source": [
    "\n",
    "TIME_STEP = 250\n",
    "SOC_INIT = 2.9\n",
    "\n",
    "cur, ah, time = get_data()\n",
    "x_train, y_train, x_test, y_test, x, y= get_traindata(cur, ah, time, TIME_STEP, SOC_INIT)\n"
   ]
  },
  {
   "cell_type": "code",
   "execution_count": 3,
   "metadata": {},
   "outputs": [
    {
     "name": "stdout",
     "output_type": "stream",
     "text": [
      "<class 'numpy.ndarray'>\n",
      "(84190, 1, 1) (84190, 1) (9355, 1, 1) (9355, 1)\n"
     ]
    }
   ],
   "source": [
    "\n",
    "x_train = x_train.reshape(84190, 1, 1) / 2.9\n",
    "x_test = x_test.reshape(9355, 1, 1) / 2.9\n",
    "y_train = y_train.reshape(84190, 1) / 2.9\n",
    "y_test = y_test.reshape(9355, 1) / 2.9\n",
    "\n",
    "print(type(x_train))\n",
    "\n",
    "print(x_train.shape, y_train.shape, x_test.shape, y_test.shape)\n",
    "# print(x_train[0:10])"
   ]
  },
  {
   "cell_type": "code",
   "execution_count": 4,
   "metadata": {},
   "outputs": [
    {
     "ename": "SyntaxError",
     "evalue": "invalid syntax (<ipython-input-4-0c396b4a4aea>, line 14)",
     "output_type": "error",
     "traceback": [
      "\u001b[0;36m  File \u001b[0;32m\"<ipython-input-4-0c396b4a4aea>\"\u001b[0;36m, line \u001b[0;32m14\u001b[0m\n\u001b[0;31m    Now when creating your session pass this config to it.\u001b[0m\n\u001b[0m           ^\u001b[0m\n\u001b[0;31mSyntaxError\u001b[0m\u001b[0;31m:\u001b[0m invalid syntax\n"
     ]
    }
   ],
   "source": [
    "import scipy.io as spy\n",
    "from pandas import DataFrame\n",
    "import pandas as pd\n",
    "import numpy as np\n",
    "import matplotlib.pyplot as plt\n",
    "import scipy.integrate as sci\n",
    "from keras.models import Sequential\n",
    "from keras.layers import LSTM, Dense, TimeDistributed, GRU, BatchNormalization, Flatten\n",
    "from keras.optimizers import Adam \n",
    "import os \n",
    "import tensorflow as tf  \n",
    "config = tf.ConfigProto()\n",
    "config.gpu_options.allow_growth = True\n",
    "Now when creating your session pass this config to it.\n",
    "sess = tf.Session(config=config)\n",
    "\n",
    "os.environ['TF_CPP_MIN_LOG_LEVEL'] = '2'\n",
    "\n",
    "INPUT_SIZE =x_train.shape[1]\n",
    "CELL_SIZE = 500\n",
    "OUTPUT_SIZE =1\n",
    "BATCH_SIZE = 16\n",
    "EPOCH = 16\n",
    "\n",
    "\n",
    "model = Sequential()\n",
    "model.add(BatchNormalization(\n",
    "    input_shape=(INPUT_SIZE ,INPUT_SIZE),\n",
    "    epsilon=1e-06,\n",
    "    axis=1,\n",
    "    mode=0,\n",
    "))  \n",
    "\n",
    "model.add(GRU(units=CELL_SIZE, \n",
    "              input_shape=(INPUT_SIZE ,INPUT_SIZE),\n",
    "              dropout=0.20, \n",
    "              recurrent_dropout=0.20,\n",
    "              activation='tanh'\n",
    "))\n",
    "# model.add(Flatten())         \n",
    "model.add(Dense(1,\n",
    "                activation = 'relu'\n",
    "))\n",
    "\n",
    "model.compile(loss = 'mse', optimizer = 'sgd', metrics=['mae'])\n",
    "\n",
    "print(\"Train-----------------------\")\n",
    "history = model.fit(x_train, y_train,\n",
    "                    batch_size=BATCH_SIZE,\n",
    "                    epochs = EPOCH,\n",
    "                    verbose=1,\n",
    "                    shuffle=True,\n",
    "                    )\n",
    "\n"
   ]
  },
  {
   "cell_type": "code",
   "execution_count": 1,
   "metadata": {},
   "outputs": [
    {
     "name": "stdout",
     "output_type": "stream",
     "text": [
      "Test------------------------\n"
     ]
    },
    {
     "ename": "NameError",
     "evalue": "name 'model' is not defined",
     "output_type": "error",
     "traceback": [
      "\u001b[0;31m---------------------------------------------------------------------------\u001b[0m",
      "\u001b[0;31mNameError\u001b[0m                                 Traceback (most recent call last)",
      "\u001b[0;32m<ipython-input-1-4f0be6e6d770>\u001b[0m in \u001b[0;36m<module>\u001b[0;34m\u001b[0m\n\u001b[1;32m      1\u001b[0m \u001b[0mprint\u001b[0m\u001b[0;34m(\u001b[0m\u001b[0;34m\"Test------------------------\"\u001b[0m\u001b[0;34m)\u001b[0m\u001b[0;34m\u001b[0m\u001b[0m\n\u001b[0;32m----> 2\u001b[0;31m \u001b[0mmse\u001b[0m \u001b[0;34m,\u001b[0m \u001b[0mmae\u001b[0m \u001b[0;34m=\u001b[0m \u001b[0mmodel\u001b[0m\u001b[0;34m.\u001b[0m\u001b[0mevaluate\u001b[0m\u001b[0;34m(\u001b[0m\u001b[0mx_test\u001b[0m\u001b[0;34m,\u001b[0m \u001b[0my_test\u001b[0m\u001b[0;34m)\u001b[0m\u001b[0;34m\u001b[0m\u001b[0m\n\u001b[0m\u001b[1;32m      3\u001b[0m \u001b[0mprint\u001b[0m\u001b[0;34m(\u001b[0m\u001b[0mmse\u001b[0m\u001b[0;34m)\u001b[0m\u001b[0;34m\u001b[0m\u001b[0m\n\u001b[1;32m      4\u001b[0m \u001b[0mprint\u001b[0m\u001b[0;34m(\u001b[0m\u001b[0;34m\"\\ntest mae = %.6f %%\"\u001b[0m\u001b[0;34m%\u001b[0m \u001b[0;34m(\u001b[0m\u001b[0mmae\u001b[0m\u001b[0;34m*\u001b[0m\u001b[0;36m100\u001b[0m\u001b[0;34m)\u001b[0m\u001b[0;34m)\u001b[0m\u001b[0;34m\u001b[0m\u001b[0m\n\u001b[1;32m      5\u001b[0m \u001b[0mprint\u001b[0m\u001b[0;34m(\u001b[0m\u001b[0;34m\"\\ntest mse = %.6f %%\"\u001b[0m\u001b[0;34m%\u001b[0m \u001b[0;34m(\u001b[0m\u001b[0mmse\u001b[0m\u001b[0;34m*\u001b[0m\u001b[0;36m100\u001b[0m\u001b[0;34m)\u001b[0m\u001b[0;34m)\u001b[0m\u001b[0;34m\u001b[0m\u001b[0m\n",
      "\u001b[0;31mNameError\u001b[0m: name 'model' is not defined"
     ]
    }
   ],
   "source": [
    "print(\"Test------------------------\")\n",
    "mse , mae = model.evaluate(x_test, y_test)\n",
    "print(mse)\n",
    "print(\"\\ntest mae = %.6f %%\"% (mae*100))\n",
    "print(\"\\ntest mse = %.6f %%\"% (mse*100))"
   ]
  },
  {
   "cell_type": "code",
   "execution_count": 6,
   "metadata": {},
   "outputs": [
    {
     "data": {
      "image/png": "[encoded data removed]",
      "text/plain": [
       "<matplotlib.figure.Figure at 0x7f5ba1ba07b8>"
      ]
     },
     "metadata": {
      "needs_background": "light"
     },
     "output_type": "display_data"
    }
   ],
   "source": [
    "import numpy as np\n",
    "import matplotlib.pyplot as plt\n",
    "\n",
    "iters = range(len(history.history[\"loss\"]))\n",
    "\n",
    "plt.figure()\n",
    "plt.plot(iters, history.history[\"loss\"], color = 'red', label=\"train mse\")\n",
    "plt.plot(iters, history.history[\"mean_absolute_error\"],color = 'green', label=\"train mae\")\n",
    "plt.show()\n"
   ]
  },
  {
   "cell_type": "code",
   "execution_count": 5,
   "metadata": {},
   "outputs": [
    {
     "data": {
      "text/plain": [
       "[<matplotlib.lines.Line2D at 0x7f5bfcb95d30>]"
      ]
     },
     "execution_count": 5,
     "metadata": {},
     "output_type": "execute_result"
    },
    {
     "data": {
      "image/png": "[encoded data removed]",
      "text/plain": [
       "<matplotlib.figure.Figure at 0x7f5bfcb74c50>"
      ]
     },
     "metadata": {
      "needs_background": "light"
     },
     "output_type": "display_data"
    }
   ],
   "source": [
    "import numpy as np\n",
    "import matplotlib.pyplot as plt\n",
    "\n",
    "plt.figure()\n",
    "plt.plot(x,color = 'green')\n",
    "plt.plot(y,color = 'blue')\n",
    "plt.show()"
   ]
  },
  {
   "cell_type": "code",
   "execution_count": 9,
   "metadata": {},
   "outputs": [
    {
     "name": "stdout",
     "output_type": "stream",
     "text": [
      "Test------------------------\n",
      "9355/9355 [==============================] - 1s 115us/step\n",
      "\n",
      "test mae = nan%\n",
      "\n",
      "test mse = nan%\n"
     ]
    }
   ],
   "source": [
    "\n",
    "print(\"Test------------------------\")\n",
    "mse , mae = model.evaluate(x_test, y_test)\n",
    "print(\"\\ntest mae = %.8f% %\"% (mae*100))\n",
    "print(\"\\ntest mse = %.8f% %\"% (mse*100))\n"
   ]
  },
  {
   "cell_type": "code",
   "execution_count": 8,
   "metadata": {},
   "outputs": [
    {
     "data": {
      "image/png": "[encoded data removed]",
      "text/plain": [
       "<matplotlib.figure.Figure at 0x7f5ba1b3cef0>"
      ]
     },
     "metadata": {
      "needs_background": "light"
     },
     "output_type": "display_data"
    }
   ],
   "source": [
    "import scipy.io as spy\n",
    "from pandas import DataFrame\n",
    "import pandas as pd\n",
    "import numpy as np\n",
    "import matplotlib.pyplot as plt\n",
    "import scipy.integrate as sci\n",
    "from keras.models import Sequential\n",
    "from keras.layers import LSTM, Dense, TimeDistributed, GRU, BatchNormalization\n",
    "from keras.optimizers import Adam \n",
    "import os \n",
    "os.environ['TF_CPP_MIN_LOG_LEVEL'] = '2'\n",
    "\n",
    "pred = model.predict(x_train, batch_size=16, verbose=0)\n",
    "\n",
    "x_axix = range(TIME_STEP,TIME_STEP+pred.shape[0])\n",
    "plt.plot(x_axix, y_train, color='red',label=\"Measured\")\n",
    "plt.plot(x_axix, pred, color='green',label=\"Estimated\") \n",
    "\n",
    "plt.xlabel('sample')\n",
    "plt.ylabel('SOC')\n",
    "plt.legend()\n",
    "plt.show()\n"
   ]
  },
  {
   "cell_type": "code",
   "execution_count": null,
   "metadata": {},
   "outputs": [],
   "source": []
  }
 ],
 "metadata": {
  "kernelspec": {
   "display_name": "Python 3",
   "language": "python",
   "name": "python3"
  },
  "language_info": {
   "codemirror_mode": {
    "name": "ipython",
    "version": 3
   },
   "file_extension": ".py",
   "mimetype": "text/x-python",
   "name": "python",
   "nbconvert_exporter": "python",
   "pygments_lexer": "ipython3",
   "version": "3.6.7"
  }
 },
 "nbformat": 4,
 "nbformat_minor": 2
}
