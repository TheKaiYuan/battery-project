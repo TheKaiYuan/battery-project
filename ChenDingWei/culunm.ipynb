{
 "cells": [
  {
   "cell_type": "code",
   "execution_count": 1,
   "metadata": {},
   "outputs": [
    {
     "name": "stderr",
     "output_type": "stream",
     "text": [
      "Using TensorFlow backend.\n"
     ]
    }
   ],
   "source": [
    "import scipy.io as spy\n",
    "from pandas import DataFrame\n",
    "import pandas as pd\n",
    "import numpy as np\n",
    "import matplotlib.pyplot as plt\n",
    "import scipy.integrate as sci\n",
    "from keras.models import Sequential\n",
    "from keras.layers import LSTM, Dense, TimeDistributed, GRU, BatchNormalization\n",
    "from keras.optimizers import Adam \n",
    "import os \n",
    "# os.environ['TF_CPP_MIN_LOG_LEVEL'] = '2'\n",
    "import tensorflow as tf  \n",
    "os.environ[\"CUDA_VISIBLE_DEVICES\"] =\"0\"\n",
    "\n",
    "config = tf.ConfigProto()\n",
    "config.gpu_options.allow_growth = True\n",
    "# Now when creating your session pass this config to it.\n",
    "sess = tf.Session(config=config)\n",
    "def get_data():\n",
    "    data = spy.loadmat('03-28-17_12.51 10degC_Cycle_1_Pan18650PF.mat')\n",
    "    cur = data['meas'][0][0][2].tolist()\n",
    "    ah = data['meas'][0][0][3].tolist()\n",
    "    time = data['meas'][0][0][7].tolist()\n",
    "    return cur, ah, time\n",
    "\n",
    "def get_traindata(cur, ah, time, timestep,SOC_INIT):\n",
    "    cur_data = []\n",
    "    ah_data = []\n",
    "    time_data = []\n",
    "    soc_data = []\n",
    "\n",
    "    x = []\n",
    "    y = []\n",
    "\n",
    "    x_train = []\n",
    "    y_train = []\n",
    "    x_test = []\n",
    "    y_test = []\n",
    "\n",
    "    flag = 0\n",
    "    for i in range(len(cur)):\n",
    "        cur_data.append(cur[i][0])\n",
    "        time_data.append(time[i][0])\n",
    "        ah_data.append(ah[i][0])\n",
    "        soc_data.append(SOC_INIT + ah_data[i])\n",
    "\n",
    "    for flag in range(len(cur_data)):\n",
    "        cur_temp_data = cur_data[flag:flag+timestep]\n",
    "        time_temp_data = time_data[flag:flag+timestep]\n",
    "        temp_soc = sci.simps(cur_temp_data,time_temp_data) / 3600\n",
    "        if(len(cur_temp_data) < timestep):\n",
    "            break\n",
    "        else:\n",
    "            \n",
    "            x.append(soc_data[flag] - temp_soc)\n",
    "            # x.append(sci.simps(cur_temp_data,time_temp_data))\n",
    "        # flag += 1\n",
    "\n",
    "\n",
    "    y = soc_data[timestep-1:]\n",
    "    # print(y[0:10])\n",
    "    VALIDATION_SPLIT = 0.9\n",
    "    x_validation_samples = int(VALIDATION_SPLIT * len(x))\n",
    "    y_validation_samples = int(VALIDATION_SPLIT * len(y))\n",
    "\n",
    "    x_train = np.array(x[:x_validation_samples])\n",
    "    y_train = np.array(y[:y_validation_samples])\n",
    "    x_test = np.array(x[x_validation_samples:])\n",
    "    y_test = np.array(y[y_validation_samples:])\n",
    "    return x_train, y_train, x_test, y_test, x, y"
   ]
  },
  {
   "cell_type": "code",
   "execution_count": 2,
   "metadata": {
    "scrolled": true
   },
   "outputs": [
    {
     "name": "stderr",
     "output_type": "stream",
     "text": [
      "/home/battery/.local/lib/python3.6/site-packages/scipy/integrate/quadrature.py:358: RuntimeWarning: divide by zero encountered in true_divide\n",
      "  h0divh1 = h0 / h1\n",
      "/home/battery/.local/lib/python3.6/site-packages/scipy/integrate/quadrature.py:360: RuntimeWarning: invalid value encountered in true_divide\n",
      "  y[slice1]*hsum*hsum/hprod +\n",
      "/home/battery/.local/lib/python3.6/site-packages/scipy/integrate/quadrature.py:361: RuntimeWarning: invalid value encountered in multiply\n",
      "  y[slice2]*(2-h0divh1))\n"
     ]
    }
   ],
   "source": [
    "\n",
    "TIME_STEP = 250\n",
    "SOC_INIT = 2.9\n",
    "\n",
    "cur, ah, time = get_data()\n",
    "x_train, y_train, x_test, y_test, x, y= get_traindata(cur, ah, time, TIME_STEP, SOC_INIT)\n"
   ]
  },
  {
   "cell_type": "code",
   "execution_count": 3,
   "metadata": {},
   "outputs": [
    {
     "name": "stdout",
     "output_type": "stream",
     "text": [
      "<class 'numpy.ndarray'>\n",
      "(84190, 1, 1) (84190, 1) (9355, 1, 1) (9355, 1)\n"
     ]
    }
   ],
   "source": [
    "\n",
    "x_train = x_train.reshape(84190, 1, 1) / 2.9\n",
    "x_test = x_test.reshape(9355, 1, 1) / 2.9\n",
    "y_train = y_train.reshape(84190, 1) / 2.9\n",
    "y_test = y_test.reshape(9355, 1) / 2.9\n",
    "\n",
    "print(type(x_train))\n",
    "\n",
    "print(x_train.shape, y_train.shape, x_test.shape, y_test.shape)\n",
    "# print(x_train[0:10])"
   ]
  },
  {
   "cell_type": "code",
   "execution_count": null,
   "metadata": {},
   "outputs": [
    {
     "name": "stderr",
     "output_type": "stream",
     "text": [
      "/home/battery/.local/lib/python3.6/site-packages/ipykernel_launcher.py:31: UserWarning: Update your `BatchNormalization` call to the Keras 2 API: `BatchNormalization(input_shape=(1, 1), epsilon=1e-06, axis=1)`\n"
     ]
    },
    {
     "name": "stdout",
     "output_type": "stream",
     "text": [
      "WARNING:tensorflow:From /usr/lib/python3/dist-packages/keras/backend/tensorflow_backend.py:1242: calling reduce_sum (from tensorflow.python.ops.math_ops) with keep_dims is deprecated and will be removed in a future version.\n",
      "Instructions for updating:\n",
      "keep_dims is deprecated, use keepdims instead\n",
      "WARNING:tensorflow:From /usr/lib/python3/dist-packages/keras/backend/tensorflow_backend.py:1344: calling reduce_mean (from tensorflow.python.ops.math_ops) with keep_dims is deprecated and will be removed in a future version.\n",
      "Instructions for updating:\n",
      "keep_dims is deprecated, use keepdims instead\n",
      "Train-----------------------\n",
      "Epoch 1/32\n",
      " 3936/84190 [>.............................] - ETA: 1:31 - loss: 0.0531 - mean_absolute_error: 0.1463"
     ]
    }
   ],
   "source": [
    "import scipy.io as spy\n",
    "from pandas import DataFrame\n",
    "import pandas as pd\n",
    "import numpy as np\n",
    "import matplotlib.pyplot as plt\n",
    "import scipy.integrate as sci\n",
    "from keras.models import Sequential\n",
    "from keras.layers import LSTM, Dense, TimeDistributed, GRU, BatchNormalization, Flatten\n",
    "from keras.optimizers import Adam \n",
    "import os \n",
    "import tensorflow as tf  \n",
    "# config = tf.ConfigProto()\n",
    "# config.gpu_options.allow_growth = True\n",
    "# Now when creating your session pass this config to it.\n",
    "# sess = tf.Session(config=config)\n",
    "\n",
    "# os.environ['TF_CPP_MIN_LOG_LEVEL'] = '2'\n",
    "\n",
    "INPUT_SIZE =x_train.shape[1]\n",
    "CELL_SIZE = 500\n",
    "OUTPUT_SIZE =1\n",
    "BATCH_SIZE = 16\n",
    "EPOCH = 32\n",
    "\n",
    "\n",
    "model = Sequential()\n",
    "model.add(BatchNormalization(\n",
    "    input_shape=(INPUT_SIZE ,INPUT_SIZE),\n",
    "    epsilon=1e-06,\n",
    "    axis=1,\n",
    "    mode=0,\n",
    "))  \n",
    "\n",
    "model.add(GRU(units=CELL_SIZE, \n",
    "              input_shape=(INPUT_SIZE ,INPUT_SIZE),\n",
    "              dropout=0.20, \n",
    "              recurrent_dropout=0.20,\n",
    "              activation='tanh'\n",
    "))\n",
    "# model.add(Flatten())         \n",
    "model.add(Dense(1,\n",
    "                activation = 'relu'\n",
    "))\n",
    "\n",
    "model.compile(loss = 'mse', optimizer = 'sgd', metrics=['mae'])\n",
    "\n",
    "print(\"Train-----------------------\")\n",
    "history = model.fit(x_train, y_train,\n",
    "                    batch_size=BATCH_SIZE,\n",
    "                    epochs = EPOCH,\n",
    "                    verbose=1,\n",
    "                    shuffle=True,\n",
    "                    )\n",
    "\n"
   ]
  },
  {
   "cell_type": "code",
   "execution_count": null,
   "metadata": {},
   "outputs": [],
   "source": [
    "print(\"Test------------------------\")\n",
    "mse , mae = model.evaluate(x_test, y_test)\n",
    "print(mse)\n",
    "print(\"\\ntest mae = %.6f %%\"% (mae*100))\n",
    "print(\"\\ntest mse = %.6f %%\"% (mse*100))"
   ]
  },
  {
   "cell_type": "code",
   "execution_count": 8,
   "metadata": {},
   "outputs": [
    {
     "data": {
      "image/png": "[encoded data removed]",
      "text/plain": [
       "<matplotlib.figure.Figure at 0x7f062c458a58>"
      ]
     },
     "metadata": {
      "needs_background": "light"
     },
     "output_type": "display_data"
    }
   ],
   "source": [
    "import numpy as np\n",
    "import matplotlib.pyplot as plt\n",
    "\n",
    "iters = range(len(history.history[\"loss\"]))\n",
    "\n",
    "plt.figure()\n",
    "plt.plot(iters, history.history[\"loss\"], color = 'red', label=\"train mse\")\n",
    "plt.plot(iters, history.history[\"mean_absolute_error\"],color = 'green', label=\"train mae\")\n",
    "plt.show()\n"
   ]
  },
  {
   "cell_type": "code",
   "execution_count": 9,
   "metadata": {},
   "outputs": [
    {
     "data": {
      "image/png": "[encoded data removed]",
      "text/plain": [
       "<matplotlib.figure.Figure at 0x7f062c448780>"
      ]
     },
     "metadata": {
      "needs_background": "light"
     },
     "output_type": "display_data"
    }
   ],
   "source": [
    "import numpy as np\n",
    "import matplotlib.pyplot as plt\n",
    "\n",
    "plt.figure()\n",
    "plt.plot(x,color = 'green')\n",
    "plt.plot(y,color = 'blue')\n",
    "plt.show()"
   ]
  },
  {
   "cell_type": "code",
   "execution_count": 10,
   "metadata": {},
   "outputs": [
    {
     "name": "stdout",
     "output_type": "stream",
     "text": [
      "Test------------------------\n",
      "9355/9355 [==============================] - 2s 197us/step\n",
      "\n",
      "test mae = 7.28862646%\n",
      "\n",
      "test mse = 0.54324328%\n"
     ]
    }
   ],
   "source": [
    "\n",
    "print(\"Test------------------------\")\n",
    "mse , mae = model.evaluate(x_test, y_test)\n",
    "print(\"\\ntest mae = %.8f% %\"% (mae*100))\n",
    "print(\"\\ntest mse = %.8f% %\"% (mse*100))\n"
   ]
  },
  {
   "cell_type": "code",
   "execution_count": 11,
   "metadata": {},
   "outputs": [
    {
     "data": {
      "image/png": "[encoded data removed]",
      "text/plain": [
       "<matplotlib.figure.Figure at 0x7f054036cda0>"
      ]
     },
     "metadata": {
      "needs_background": "light"
     },
     "output_type": "display_data"
    }
   ],
   "source": [
    "import scipy.io as spy\n",
    "from pandas import DataFrame\n",
    "import pandas as pd\n",
    "import numpy as np\n",
    "import matplotlib.pyplot as plt\n",
    "import scipy.integrate as sci\n",
    "from keras.models import Sequential\n",
    "from keras.layers import LSTM, Dense, TimeDistributed, GRU, BatchNormalization\n",
    "from keras.optimizers import Adam \n",
    "import os \n",
    "os.environ['TF_CPP_MIN_LOG_LEVEL'] = '2'\n",
    "\n",
    "pred = model.predict(x_train, batch_size=16, verbose=0)\n",
    "\n",
    "x_axix = range(TIME_STEP,TIME_STEP+pred.shape[0])\n",
    "plt.plot(x_axix, y_train, color='red',label=\"Measured\")\n",
    "plt.plot(x_axix, pred, color='green',label=\"Estimated\") \n",
    "\n",
    "plt.xlabel('sample')\n",
    "plt.ylabel('SOC')\n",
    "plt.legend()\n",
    "plt.show()\n"
   ]
  }
 ],
 "metadata": {
  "kernelspec": {
   "display_name": "Python 3",
   "language": "python",
   "name": "python3"
  },
  "language_info": {
   "codemirror_mode": {
    "name": "ipython",
    "version": 3
   },
   "file_extension": ".py",
   "mimetype": "text/x-python",
   "name": "python",
   "nbconvert_exporter": "python",
   "pygments_lexer": "ipython3",
   "version": "3.6.7"
  }
 },
 "nbformat": 4,
 "nbformat_minor": 2
}
